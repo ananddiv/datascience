{
  "metadata": {
    "kernelspec": {
      "name": "python3",
      "display_name": "Python 3 (ipykernel)",
      "language": "python"
    },
    "colab": {
      "provenance": [],
      "include_colab_link": true
    }
  },
  "nbformat": 4,
  "nbformat_minor": 0,
  "cells": [
    {
      "cell_type": "markdown",
      "metadata": {
        "id": "view-in-github",
        "colab_type": "text"
      },
      "source": [
        "<a href=\"https://colab.research.google.com/github/ananddiv/datascience/blob/Linear-Regression/Multivariate_Regression.ipynb\" target=\"_parent\"><img src=\"https://colab.research.google.com/assets/colab-badge.svg\" alt=\"Open In Colab\"/></a>"
      ]
    },
    {
      "cell_type": "code",
      "execution_count": null,
      "metadata": {
        "id": "iSPzbXSwzeqc"
      },
      "outputs": [],
      "source": [
        "# Import necessary libraries\n",
        "import numpy as np\n",
        "import pandas as pd\n",
        "import matplotlib.pyplot as plt\n",
        "from sklearn import preprocessing\n",
        "from prettytable import PrettyTable\n",
        "from sklearn.metrics import mean_squared_error\n",
        "from sklearn.linear_model import LinearRegression\n",
        "from sklearn.model_selection import train_test_split\n",
        "%matplotlib inline\n"
      ]
    },
    {
      "cell_type": "markdown",
      "metadata": {
        "id": "iNuiXhfdzeqf"
      },
      "source": [
        "### Reading the dataset"
      ]
    },
    {
      "cell_type": "code",
      "execution_count": null,
      "metadata": {
        "id": "Pwx5OVnHzeqg"
      },
      "outputs": [],
      "source": [
        "# Read the file \"Advertising.csv\"\n",
        "df = pd.read_csv(\"Advertising.csv\")\n"
      ]
    },
    {
      "cell_type": "code",
      "execution_count": null,
      "metadata": {
        "id": "HeVlmpS6zeqh",
        "outputId": "6e2eb49b-6f77-4548-d4e0-edea2caa2145"
      },
      "outputs": [
        {
          "data": {
            "text/html": "<div>\n<style scoped>\n    .dataframe tbody tr th:only-of-type {\n        vertical-align: middle;\n    }\n\n    .dataframe tbody tr th {\n        vertical-align: top;\n    }\n\n    .dataframe thead th {\n        text-align: right;\n    }\n</style>\n<table border=\"1\" class=\"dataframe\">\n  <thead>\n    <tr style=\"text-align: right;\">\n      <th></th>\n      <th>TV</th>\n      <th>Radio</th>\n      <th>Newspaper</th>\n      <th>Sales</th>\n    </tr>\n  </thead>\n  <tbody>\n    <tr>\n      <th>0</th>\n      <td>230.1</td>\n      <td>37.8</td>\n      <td>69.2</td>\n      <td>22.1</td>\n    </tr>\n    <tr>\n      <th>1</th>\n      <td>44.5</td>\n      <td>39.3</td>\n      <td>45.1</td>\n      <td>10.4</td>\n    </tr>\n    <tr>\n      <th>2</th>\n      <td>17.2</td>\n      <td>45.9</td>\n      <td>69.3</td>\n      <td>9.3</td>\n    </tr>\n    <tr>\n      <th>3</th>\n      <td>151.5</td>\n      <td>41.3</td>\n      <td>58.5</td>\n      <td>18.5</td>\n    </tr>\n    <tr>\n      <th>4</th>\n      <td>180.8</td>\n      <td>10.8</td>\n      <td>58.4</td>\n      <td>12.9</td>\n    </tr>\n  </tbody>\n</table>\n</div>",
            "text/plain": "      TV  Radio  Newspaper  Sales\n0  230.1   37.8       69.2   22.1\n1   44.5   39.3       45.1   10.4\n2   17.2   45.9       69.3    9.3\n3  151.5   41.3       58.5   18.5\n4  180.8   10.8       58.4   12.9"
          },
          "execution_count": 4,
          "metadata": {},
          "output_type": "execute_result"
        }
      ],
      "source": [
        "# Take a quick look at the data to list all the predictors\n",
        "df.head()\n"
      ]
    },
    {
      "cell_type": "markdown",
      "metadata": {
        "id": "uLg4nlCjzeqi"
      },
      "source": [
        "### Create different multi predictor models"
      ]
    },
    {
      "cell_type": "code",
      "execution_count": null,
      "metadata": {
        "id": "1svf3VYxzeqi",
        "outputId": "5a720b0d-5e3d-444a-d742-f725d58d5903"
      },
      "outputs": [
        {
          "name": "stdout",
          "output_type": "stream",
          "text": "['TV']\n['Radio']\n['Newspaper']\n['TV', 'Radio']\n['Radio', 'Newspaper']\n['TV', 'Newspaper']\n['TV', 'Radio', 'Newspaper']\n"
        }
      ],
      "source": [
        "### edTest(test_mse) ###\n",
        "\n",
        "# Initialize a list to store the MSE values\n",
        "mse_list = []\n",
        "\n",
        "# Create a list of lists of all unique predictor combinations\n",
        "# For example, if you have 2 predictors,  A and B, you would\n",
        "# end up with [['A'],['B'],['A','B']]\n",
        "cols = [['TV'],['Radio'],['Newspaper'],['TV','Radio'],['Radio','Newspaper'],['TV','Newspaper'],['TV','Radio','Newspaper']]\n",
        "#print(cols)\n",
        "# Loop over all the predictor combinations\n",
        "for i in cols:\n",
        "    print(i)\n",
        "    # Set each of the predictors from the previous list as x\n",
        "    x = df[i]\n",
        "\n",
        "    # Set the \"Sales\" column as the reponse variable\n",
        "    y = df['Sales']\n",
        "\n",
        "    # Split the data into train-test sets with 80% training data and 20% testing data.\n",
        "    # Set random_state as 0\n",
        "    x_train, x_test, y_train, y_test = train_test_split(x,y,train_size=0.8,random_state=0)\n",
        "\n",
        "    # Initialize a Linear Regression model\n",
        "    lreg = LinearRegression()\n",
        "\n",
        "    # Fit the linear model on the train data\n",
        "    lreg.fit(x_train, y_train)\n",
        "\n",
        "    # Predict the response variable for the test set using the trained model\n",
        "    y_pred = lreg.predict(x_test)\n",
        "\n",
        "    # Compute the MSE for the test data\n",
        "    MSE = mean_squared_error(y_test, y_pred, squared=True)\n",
        "\n",
        "    # Append the computed MSE to the initialized list\n",
        "    mse_list.append(MSE)\n",
        "\n"
      ]
    },
    {
      "cell_type": "markdown",
      "metadata": {
        "id": "CgpIzSlzzeqj"
      },
      "source": [
        "### Display the MSE with predictor combinations"
      ]
    },
    {
      "cell_type": "code",
      "execution_count": null,
      "metadata": {
        "id": "6xBeeItFzeqk",
        "outputId": "b8e5e321-aafe-4b11-9e97-4195b016ae00"
      },
      "outputs": [
        {
          "name": "stdout",
          "output_type": "stream",
          "text": "+------------------------------+--------+\n|          Predictors          |  MSE   |\n+------------------------------+--------+\n|            ['TV']            | 10.186 |\n|          ['Radio']           | 24.237 |\n|        ['Newspaper']         | 32.137 |\n|       ['TV', 'Radio']        | 4.391  |\n|    ['Radio', 'Newspaper']    | 24.783 |\n|     ['TV', 'Newspaper']      | 8.688  |\n| ['TV', 'Radio', 'Newspaper'] | 4.402  |\n+------------------------------+--------+\n"
        }
      ],
      "source": [
        "# Helper code to display the MSE for each predictor combination\n",
        "t = PrettyTable(['Predictors', 'MSE'])\n",
        "\n",
        "for i in range(len(mse_list)):\n",
        "    t.add_row([cols[i],round(mse_list[i],3)])\n",
        "\n",
        "print(t)\n"
      ]
    }
  ]
}
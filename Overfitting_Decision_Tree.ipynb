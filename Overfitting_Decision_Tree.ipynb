{
  "nbformat": 4,
  "nbformat_minor": 0,
  "metadata": {
    "colab": {
      "provenance": [],
      "authorship_tag": "ABX9TyMdh0tst2UjJMNN4wYlXfFP",
      "include_colab_link": true
    },
    "kernelspec": {
      "name": "python3",
      "display_name": "Python 3"
    },
    "language_info": {
      "name": "python"
    }
  },
  "cells": [
    {
      "cell_type": "markdown",
      "metadata": {
        "id": "view-in-github",
        "colab_type": "text"
      },
      "source": [
        "<a href=\"https://colab.research.google.com/github/ananddiv/datascience/blob/main/Overfitting_Decision_Tree.ipynb\" target=\"_parent\"><img src=\"https://colab.research.google.com/assets/colab-badge.svg\" alt=\"Open In Colab\"/></a>"
      ]
    },
    {
      "cell_type": "code",
      "execution_count": 2,
      "metadata": {
        "id": "HnxGcP2oB2VS"
      },
      "outputs": [],
      "source": [
        "from sklearn.datasets import make_classification\n",
        "from sklearn.model_selection import train_test_split\n",
        "from sklearn.metrics import accuracy_score\n",
        "from sklearn.tree import DecisionTreeClassifier\n",
        "\n",
        "from matplotlib import pyplot\n",
        "import matplotlib.pyplot as plt\n",
        "\n",
        "import numpy as np\n",
        "import pandas as pd"
      ]
    },
    {
      "cell_type": "code",
      "source": [
        "X,y = make_classification(n_samples = 9000,n_features =18,n_informative=4,n_redundant=12, random_state=2,n_classes=2)"
      ],
      "metadata": {
        "id": "fVtyTiM3CUtV"
      },
      "execution_count": 3,
      "outputs": []
    },
    {
      "cell_type": "code",
      "source": [
        "# Convert to a dataframe as the output is a multidimensional array\n",
        "X = pd.DataFrame(X)"
      ],
      "metadata": {
        "id": "Tn8OiYhDC9do"
      },
      "execution_count": 4,
      "outputs": []
    },
    {
      "cell_type": "code",
      "source": [
        "# Convert to a dataframe as the output is a array\n",
        "y = pd.DataFrame(y)"
      ],
      "metadata": {
        "id": "zGPIRJ5SDLK8"
      },
      "execution_count": 5,
      "outputs": []
    },
    {
      "cell_type": "code",
      "source": [
        "y.value_counts()"
      ],
      "metadata": {
        "colab": {
          "base_uri": "https://localhost:8080/"
        },
        "id": "NMi9gGWnDj9e",
        "outputId": "a1991b62-e5eb-4ad3-be10-2668debd2461"
      },
      "execution_count": 6,
      "outputs": [
        {
          "output_type": "execute_result",
          "data": {
            "text/plain": [
              "0    4503\n",
              "1    4497\n",
              "dtype: int64"
            ]
          },
          "metadata": {},
          "execution_count": 6
        }
      ]
    },
    {
      "cell_type": "code",
      "source": [
        "X_train, X_test, y_train, y_test = train_test_split(X, y, test_size=0.33, random_state=42)"
      ],
      "metadata": {
        "id": "anl-ZYelDxaI"
      },
      "execution_count": 7,
      "outputs": []
    },
    {
      "cell_type": "code",
      "source": [
        "print(f'Xtrain:{len(X_train)}')\n",
        "print(f'Xtest:{len(X_test)}')\n",
        "print(f'ytrain:{len(y_train)}')\n",
        "print(f'ytest:{len(X_test)}')"
      ],
      "metadata": {
        "colab": {
          "base_uri": "https://localhost:8080/"
        },
        "id": "e9EJLD9AFBTI",
        "outputId": "b0f5a19b-ac93-4dba-a034-ec9ecee94fd0"
      },
      "execution_count": 8,
      "outputs": [
        {
          "output_type": "stream",
          "name": "stdout",
          "text": [
            "Xtrain:6030\n",
            "Xtest:2970\n",
            "ytrain:6030\n",
            "ytest:2970\n"
          ]
        }
      ]
    },
    {
      "cell_type": "code",
      "source": [
        "train_scores=[]\n",
        "test_scores=[]\n",
        "values = [i for i in range(1,20)]"
      ],
      "metadata": {
        "id": "jjik0_SpG-mq"
      },
      "execution_count": 20,
      "outputs": []
    },
    {
      "cell_type": "code",
      "source": [
        "for depth in values:\n",
        "  model = DecisionTreeClassifier(max_depth = depth)\n",
        "  model.fit(X_train, y_train)\n",
        "  train_yhat=model.predict(X_train)\n",
        "  train_acc = accuracy_score(y_train,train_yhat)\n",
        "  train_scores.append(train_acc)\n",
        "  test_yhat=model.predict(X_test)\n",
        "  test_acc = accuracy_score(y_test,test_yhat)\n",
        "  test_scores.append(test_acc)\n",
        "  print(f\">{depth}, train: {train_acc:.3f}, test: {test_acc:.3f}\")\n"
      ],
      "metadata": {
        "colab": {
          "base_uri": "https://localhost:8080/"
        },
        "id": "wAWY3HtMHSZU",
        "outputId": "e7773b0f-edf7-48e1-eba7-df6a3f1b5cd6"
      },
      "execution_count": 21,
      "outputs": [
        {
          "output_type": "stream",
          "name": "stdout",
          "text": [
            ">1, train: 0.663, test: 0.652\n",
            ">2, train: 0.707, test: 0.705\n",
            ">3, train: 0.791, test: 0.794\n",
            ">4, train: 0.835, test: 0.836\n",
            ">5, train: 0.872, test: 0.862\n",
            ">6, train: 0.892, test: 0.874\n",
            ">7, train: 0.913, test: 0.895\n",
            ">8, train: 0.925, test: 0.898\n",
            ">9, train: 0.938, test: 0.896\n",
            ">10, train: 0.953, test: 0.886\n",
            ">11, train: 0.964, test: 0.890\n",
            ">12, train: 0.974, test: 0.882\n",
            ">13, train: 0.981, test: 0.881\n",
            ">14, train: 0.987, test: 0.875\n",
            ">15, train: 0.991, test: 0.881\n",
            ">16, train: 0.995, test: 0.878\n",
            ">17, train: 0.997, test: 0.878\n",
            ">18, train: 0.998, test: 0.876\n",
            ">19, train: 0.999, test: 0.883\n"
          ]
        }
      ]
    },
    {
      "cell_type": "code",
      "source": [
        "len(train_scores)"
      ],
      "metadata": {
        "colab": {
          "base_uri": "https://localhost:8080/"
        },
        "id": "4OlvyCKDBRNr",
        "outputId": "5b596f3e-d477-4305-d932-85230e48d756"
      },
      "execution_count": 23,
      "outputs": [
        {
          "output_type": "execute_result",
          "data": {
            "text/plain": [
              "19"
            ]
          },
          "metadata": {},
          "execution_count": 23
        }
      ]
    },
    {
      "cell_type": "code",
      "source": [
        "plt.plot(values, train_scores, '-o', label='Train')\n",
        "plt.plot(values, test_scores, '-o', label='Test')\n",
        "plt.legend()\n",
        "plt.show()"
      ],
      "metadata": {
        "colab": {
          "base_uri": "https://localhost:8080/",
          "height": 430
        },
        "id": "IHvLoU7DAT2E",
        "outputId": "8485b068-dee4-49c7-e165-4058f845fe37"
      },
      "execution_count": 24,
      "outputs": [
        {
          "output_type": "display_data",
          "data": {
            "text/plain": [
              "<Figure size 640x480 with 1 Axes>"
            ],
            "image/png": "[encoded data removed]"
          },
          "metadata": {}
        }
      ]
    }
  ]
}
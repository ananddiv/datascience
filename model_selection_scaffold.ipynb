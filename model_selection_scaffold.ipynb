{
  "metadata": {
    "kernelspec": {
      "name": "python3",
      "display_name": "Python 3 (ipykernel)",
      "language": "python"
    },
    "colab": {
      "provenance": [],
      "include_colab_link": true
    }
  },
  "nbformat": 4,
  "nbformat_minor": 0,
  "cells": [
    {
      "cell_type": "markdown",
      "metadata": {
        "id": "view-in-github",
        "colab_type": "text"
      },
      "source": [
        "<a href=\"https://colab.research.google.com/github/ananddiv/datascience/blob/Linear-Regression/model_selection_scaffold.ipynb\" target=\"_parent\"><img src=\"https://colab.research.google.com/assets/colab-badge.svg\" alt=\"Open In Colab\"/></a>"
      ]
    },
    {
      "cell_type": "code",
      "execution_count": 1,
      "metadata": {
        "scrolled": true,
        "id": "0olr7Dz4VFp1"
      },
      "outputs": [],
      "source": [
        "# Import necessary libraries\n",
        "import operator\n",
        "%matplotlib inline\n",
        "import numpy as np\n",
        "import pandas as pd\n",
        "import matplotlib.pyplot as plt\n",
        "from prettytable import PrettyTable\n",
        "from sklearn.metrics import mean_squared_error\n",
        "from sklearn.neighbors import KNeighborsRegressor\n",
        "from sklearn.linear_model import LinearRegression\n",
        "from sklearn.model_selection import train_test_split\n",
        "from sklearn.preprocessing import PolynomialFeatures\n"
      ]
    },
    {
      "cell_type": "code",
      "execution_count": 2,
      "metadata": {
        "colab": {
          "base_uri": "https://localhost:8080/",
          "height": 206
        },
        "id": "tU8ZqkfmVFp2",
        "outputId": "7e257105-9b9e-4e78-fd7a-adf09cd3e9fc"
      },
      "outputs": [
        {
          "output_type": "execute_result",
          "data": {
            "text/plain": [
              "      x     y\n",
              "0  4.98  24.0\n",
              "1  9.14  21.6\n",
              "2  4.03  34.7\n",
              "3  2.94  33.4\n",
              "4  5.33  36.2"
            ],
            "text/html": [
              "\n",
              "  <div id=\"df-3ee7b19e-e51b-4954-a8fe-ed46b270a723\" class=\"colab-df-container\">\n",
              "    <div>\n",
              "<style scoped>\n",
              "    .dataframe tbody tr th:only-of-type {\n",
              "        vertical-align: middle;\n",
              "    }\n",
              "\n",
              "    .dataframe tbody tr th {\n",
              "        vertical-align: top;\n",
              "    }\n",
              "\n",
              "    .dataframe thead th {\n",
              "        text-align: right;\n",
              "    }\n",
              "</style>\n",
              "<table border=\"1\" class=\"dataframe\">\n",
              "  <thead>\n",
              "    <tr style=\"text-align: right;\">\n",
              "      <th></th>\n",
              "      <th>x</th>\n",
              "      <th>y</th>\n",
              "    </tr>\n",
              "  </thead>\n",
              "  <tbody>\n",
              "    <tr>\n",
              "      <th>0</th>\n",
              "      <td>4.98</td>\n",
              "      <td>24.0</td>\n",
              "    </tr>\n",
              "    <tr>\n",
              "      <th>1</th>\n",
              "      <td>9.14</td>\n",
              "      <td>21.6</td>\n",
              "    </tr>\n",
              "    <tr>\n",
              "      <th>2</th>\n",
              "      <td>4.03</td>\n",
              "      <td>34.7</td>\n",
              "    </tr>\n",
              "    <tr>\n",
              "      <th>3</th>\n",
              "      <td>2.94</td>\n",
              "      <td>33.4</td>\n",
              "    </tr>\n",
              "    <tr>\n",
              "      <th>4</th>\n",
              "      <td>5.33</td>\n",
              "      <td>36.2</td>\n",
              "    </tr>\n",
              "  </tbody>\n",
              "</table>\n",
              "</div>\n",
              "    <div class=\"colab-df-buttons\">\n",
              "\n",
              "  <div class=\"colab-df-container\">\n",
              "    <button class=\"colab-df-convert\" onclick=\"convertToInteractive('df-3ee7b19e-e51b-4954-a8fe-ed46b270a723')\"\n",
              "            title=\"Convert this dataframe to an interactive table.\"\n",
              "            style=\"display:none;\">\n",
              "\n",
              "  <svg xmlns=\"http://www.w3.org/2000/svg\" height=\"24px\" viewBox=\"0 -960 960 960\">\n",
              "    <path d=\"M120-120v-720h720v720H120Zm60-500h600v-160H180v160Zm220 220h160v-160H400v160Zm0 220h160v-160H400v160ZM180-400h160v-160H180v160Zm440 0h160v-160H620v160ZM180-180h160v-160H180v160Zm440 0h160v-160H620v160Z\"/>\n",
              "  </svg>\n",
              "    </button>\n",
              "\n",
              "  <style>\n",
              "    .colab-df-container {\n",
              "      display:flex;\n",
              "      gap: 12px;\n",
              "    }\n",
              "\n",
              "    .colab-df-convert {\n",
              "      background-color: #E8F0FE;\n",
              "      border: none;\n",
              "      border-radius: 50%;\n",
              "      cursor: pointer;\n",
              "      display: none;\n",
              "      fill: #1967D2;\n",
              "      height: 32px;\n",
              "      padding: 0 0 0 0;\n",
              "      width: 32px;\n",
              "    }\n",
              "\n",
              "    .colab-df-convert:hover {\n",
              "      background-color: #E2EBFA;\n",
              "      box-shadow: 0px 1px 2px rgba(60, 64, 67, 0.3), 0px 1px 3px 1px rgba(60, 64, 67, 0.15);\n",
              "      fill: #174EA6;\n",
              "    }\n",
              "\n",
              "    .colab-df-buttons div {\n",
              "      margin-bottom: 4px;\n",
              "    }\n",
              "\n",
              "    [theme=dark] .colab-df-convert {\n",
              "      background-color: #3B4455;\n",
              "      fill: #D2E3FC;\n",
              "    }\n",
              "\n",
              "    [theme=dark] .colab-df-convert:hover {\n",
              "      background-color: #434B5C;\n",
              "      box-shadow: 0px 1px 3px 1px rgba(0, 0, 0, 0.15);\n",
              "      filter: drop-shadow(0px 1px 2px rgba(0, 0, 0, 0.3));\n",
              "      fill: #FFFFFF;\n",
              "    }\n",
              "  </style>\n",
              "\n",
              "    <script>\n",
              "      const buttonEl =\n",
              "        document.querySelector('#df-3ee7b19e-e51b-4954-a8fe-ed46b270a723 button.colab-df-convert');\n",
              "      buttonEl.style.display =\n",
              "        google.colab.kernel.accessAllowed ? 'block' : 'none';\n",
              "\n",
              "      async function convertToInteractive(key) {\n",
              "        const element = document.querySelector('#df-3ee7b19e-e51b-4954-a8fe-ed46b270a723');\n",
              "        const dataTable =\n",
              "          await google.colab.kernel.invokeFunction('convertToInteractive',\n",
              "                                                    [key], {});\n",
              "        if (!dataTable) return;\n",
              "\n",
              "        const docLinkHtml = 'Like what you see? Visit the ' +\n",
              "          '<a target=\"_blank\" href=https://colab.research.google.com/notebooks/data_table.ipynb>data table notebook</a>'\n",
              "          + ' to learn more about interactive tables.';\n",
              "        element.innerHTML = '';\n",
              "        dataTable['output_type'] = 'display_data';\n",
              "        await google.colab.output.renderOutput(dataTable, element);\n",
              "        const docLink = document.createElement('div');\n",
              "        docLink.innerHTML = docLinkHtml;\n",
              "        element.appendChild(docLink);\n",
              "      }\n",
              "    </script>\n",
              "  </div>\n",
              "\n",
              "\n",
              "<div id=\"df-aebb381c-840c-4baa-bc51-ec32f8be8404\">\n",
              "  <button class=\"colab-df-quickchart\" onclick=\"quickchart('df-aebb381c-840c-4baa-bc51-ec32f8be8404')\"\n",
              "            title=\"Suggest charts\"\n",
              "            style=\"display:none;\">\n",
              "\n",
              "<svg xmlns=\"http://www.w3.org/2000/svg\" height=\"24px\"viewBox=\"0 0 24 24\"\n",
              "     width=\"24px\">\n",
              "    <g>\n",
              "        <path d=\"M19 3H5c-1.1 0-2 .9-2 2v14c0 1.1.9 2 2 2h14c1.1 0 2-.9 2-2V5c0-1.1-.9-2-2-2zM9 17H7v-7h2v7zm4 0h-2V7h2v10zm4 0h-2v-4h2v4z\"/>\n",
              "    </g>\n",
              "</svg>\n",
              "  </button>\n",
              "\n",
              "<style>\n",
              "  .colab-df-quickchart {\n",
              "      --bg-color: #E8F0FE;\n",
              "      --fill-color: #1967D2;\n",
              "      --hover-bg-color: #E2EBFA;\n",
              "      --hover-fill-color: #174EA6;\n",
              "      --disabled-fill-color: #AAA;\n",
              "      --disabled-bg-color: #DDD;\n",
              "  }\n",
              "\n",
              "  [theme=dark] .colab-df-quickchart {\n",
              "      --bg-color: #3B4455;\n",
              "      --fill-color: #D2E3FC;\n",
              "      --hover-bg-color: #434B5C;\n",
              "      --hover-fill-color: #FFFFFF;\n",
              "      --disabled-bg-color: #3B4455;\n",
              "      --disabled-fill-color: #666;\n",
              "  }\n",
              "\n",
              "  .colab-df-quickchart {\n",
              "    background-color: var(--bg-color);\n",
              "    border: none;\n",
              "    border-radius: 50%;\n",
              "    cursor: pointer;\n",
              "    display: none;\n",
              "    fill: var(--fill-color);\n",
              "    height: 32px;\n",
              "    padding: 0;\n",
              "    width: 32px;\n",
              "  }\n",
              "\n",
              "  .colab-df-quickchart:hover {\n",
              "    background-color: var(--hover-bg-color);\n",
              "    box-shadow: 0 1px 2px rgba(60, 64, 67, 0.3), 0 1px 3px 1px rgba(60, 64, 67, 0.15);\n",
              "    fill: var(--button-hover-fill-color);\n",
              "  }\n",
              "\n",
              "  .colab-df-quickchart-complete:disabled,\n",
              "  .colab-df-quickchart-complete:disabled:hover {\n",
              "    background-color: var(--disabled-bg-color);\n",
              "    fill: var(--disabled-fill-color);\n",
              "    box-shadow: none;\n",
              "  }\n",
              "\n",
              "  .colab-df-spinner {\n",
              "    border: 2px solid var(--fill-color);\n",
              "    border-color: transparent;\n",
              "    border-bottom-color: var(--fill-color);\n",
              "    animation:\n",
              "      spin 1s steps(1) infinite;\n",
              "  }\n",
              "\n",
              "  @keyframes spin {\n",
              "    0% {\n",
              "      border-color: transparent;\n",
              "      border-bottom-color: var(--fill-color);\n",
              "      border-left-color: var(--fill-color);\n",
              "    }\n",
              "    20% {\n",
              "      border-color: transparent;\n",
              "      border-left-color: var(--fill-color);\n",
              "      border-top-color: var(--fill-color);\n",
              "    }\n",
              "    30% {\n",
              "      border-color: transparent;\n",
              "      border-left-color: var(--fill-color);\n",
              "      border-top-color: var(--fill-color);\n",
              "      border-right-color: var(--fill-color);\n",
              "    }\n",
              "    40% {\n",
              "      border-color: transparent;\n",
              "      border-right-color: var(--fill-color);\n",
              "      border-top-color: var(--fill-color);\n",
              "    }\n",
              "    60% {\n",
              "      border-color: transparent;\n",
              "      border-right-color: var(--fill-color);\n",
              "    }\n",
              "    80% {\n",
              "      border-color: transparent;\n",
              "      border-right-color: var(--fill-color);\n",
              "      border-bottom-color: var(--fill-color);\n",
              "    }\n",
              "    90% {\n",
              "      border-color: transparent;\n",
              "      border-bottom-color: var(--fill-color);\n",
              "    }\n",
              "  }\n",
              "</style>\n",
              "\n",
              "  <script>\n",
              "    async function quickchart(key) {\n",
              "      const quickchartButtonEl =\n",
              "        document.querySelector('#' + key + ' button');\n",
              "      quickchartButtonEl.disabled = true;  // To prevent multiple clicks.\n",
              "      quickchartButtonEl.classList.add('colab-df-spinner');\n",
              "      try {\n",
              "        const charts = await google.colab.kernel.invokeFunction(\n",
              "            'suggestCharts', [key], {});\n",
              "      } catch (error) {\n",
              "        console.error('Error during call to suggestCharts:', error);\n",
              "      }\n",
              "      quickchartButtonEl.classList.remove('colab-df-spinner');\n",
              "      quickchartButtonEl.classList.add('colab-df-quickchart-complete');\n",
              "    }\n",
              "    (() => {\n",
              "      let quickchartButtonEl =\n",
              "        document.querySelector('#df-aebb381c-840c-4baa-bc51-ec32f8be8404 button');\n",
              "      quickchartButtonEl.style.display =\n",
              "        google.colab.kernel.accessAllowed ? 'block' : 'none';\n",
              "    })();\n",
              "  </script>\n",
              "</div>\n",
              "\n",
              "    </div>\n",
              "  </div>\n"
            ]
          },
          "metadata": {},
          "execution_count": 2
        }
      ],
      "source": [
        "# Load the data from the csv file\n",
        "df = pd.read_csv(\"dataset.csv\")\n",
        "\n",
        "# Take a quick look at the data\n",
        "df.head()\n"
      ]
    },
    {
      "cell_type": "code",
      "execution_count": 3,
      "metadata": {
        "id": "qWSzCCh4VFp3"
      },
      "outputs": [],
      "source": [
        "# Use the values of column x as the predictor variable\n",
        "x = df[['x']]\n",
        "\n",
        "# Use the values of column y as the response variable\n",
        "y = df['y'].values\n"
      ]
    },
    {
      "cell_type": "code",
      "execution_count": 4,
      "metadata": {
        "id": "3pKoIuQzVFp3"
      },
      "outputs": [],
      "source": [
        "### edTest(test_split) ###\n",
        "\n",
        "# Split the data into train and test splits\n",
        "# Set aside 25% for testing with a random state of 1\n",
        "x_train, x_test, y_train, y_test = train_test_split(x,y,test_size = 0.25,random_state = 1)\n"
      ]
    },
    {
      "cell_type": "code",
      "execution_count": 5,
      "metadata": {
        "id": "CK8y6vcqVFp4"
      },
      "outputs": [],
      "source": [
        "# Create an empty list to store test MSEs\n",
        "test_error = []\n"
      ]
    },
    {
      "cell_type": "markdown",
      "metadata": {
        "id": "gNi7wxtnVFp4"
      },
      "source": [
        "### Linear Regression"
      ]
    },
    {
      "cell_type": "code",
      "execution_count": 6,
      "metadata": {
        "id": "l88ZDeglVFp5"
      },
      "outputs": [],
      "source": [
        "### edTest(test_linear_mse) ###\n",
        "\n",
        "# Initialize a simple Linear Regression model\n",
        "model = LinearRegression()\n",
        "\n",
        "# Fit the model on the train data\n",
        "model.fit(x_train, y_train)\n",
        "\n",
        "# Predict using the trained model on the test data\n",
        "y_pred = model.predict(x_test)\n",
        "\n",
        "# Compute the MSE of the test predictions\n",
        "mse = mean_squared_error(y_test,y_pred)\n",
        "\n",
        "# Append the error to the list initialized above\n",
        "test_error.append(mse)\n"
      ]
    },
    {
      "cell_type": "markdown",
      "metadata": {
        "id": "i7GByudkVFp5"
      },
      "source": [
        "### Polynomial Regression"
      ]
    },
    {
      "cell_type": "code",
      "execution_count": 7,
      "metadata": {
        "id": "3EM5l8p3VFp6"
      },
      "outputs": [],
      "source": [
        "### edTest(test_poly_mse) ###\n",
        "\n",
        "# Initialize a list of degree values to create polynomial features\n",
        "degree_list = [2,5]\n",
        "\n",
        "# Run a for loop through the degrees of the polynomial\n",
        "for d in degree_list:\n",
        "\n",
        "    # Compute the polynomial features for the train data, for the current degree\n",
        "    X_train = PolynomialFeatures(degree=d).fit_transform(x_train)\n",
        "\n",
        "    # Compute the polynomial features for the test data, for the current degree\n",
        "    X_test = PolynomialFeatures(degree=d).fit_transform(x_test)\n",
        "\n",
        "    # Initialize a linear regression model\n",
        "    lreg = LinearRegression()\n",
        "\n",
        "    # Fit the linear model on the transformed train data\n",
        "    lreg.fit(X_train, y_train)\n",
        "\n",
        "    # Predict using the trained model on the test data\n",
        "    y_pred = lreg.predict(X_test)\n",
        "\n",
        "    # Compute the MSE of the test predictions\n",
        "    mse = mean_squared_error(y_test,y_pred)\n",
        "\n",
        "    # Append the error to the list initialized above\n",
        "    test_error.append(mse)\n"
      ]
    },
    {
      "cell_type": "code",
      "source": [
        "test_error"
      ],
      "metadata": {
        "colab": {
          "base_uri": "https://localhost:8080/"
        },
        "id": "3CwIvowoRAkd",
        "outputId": "f07b4edd-ce5c-4619-91db-606287aa4ef7"
      },
      "execution_count": 8,
      "outputs": [
        {
          "output_type": "execute_result",
          "data": {
            "text/plain": [
              "[13.581688275061781, 5.011790297235239, 92.27168055690166]"
            ]
          },
          "metadata": {},
          "execution_count": 8
        }
      ]
    },
    {
      "cell_type": "markdown",
      "metadata": {
        "id": "qNhtUmsFVFp6"
      },
      "source": [
        "### kNN Regression"
      ]
    },
    {
      "cell_type": "code",
      "execution_count": 11,
      "metadata": {
        "id": "pzlWsxJ3VFp7"
      },
      "outputs": [],
      "source": [
        "from inspect import modulesbyfile\n",
        "### edTest(test_knn_mse) ###\n",
        "\n",
        "# Initialize a list of k values to specify the number of neighbors\n",
        "knn_list = [1,20]\n",
        "\n",
        "# Loop through the k values from the list defined above\n",
        "for i in knn_list:\n",
        "\n",
        "    # Initialize a kNN model with the current k value\n",
        "    model = KNeighborsRegressor(n_neighbors = i)\n",
        "\n",
        "    # Fit the model on the train data\n",
        "    model.fit(x_train,y_train)\n",
        "\n",
        "    # Predict using the trained model on the test data\n",
        "    y_pred = model.predict(x_test)\n",
        "\n",
        "    # Compute the MSE of the test predictions\n",
        "    mse = mean_squared_error(y_test, y_pred)\n",
        "\n",
        "    # Append the error to the list initialized above\n",
        "    test_error.append(mse)\n",
        ""
      ]
    },
    {
      "cell_type": "code",
      "execution_count": 12,
      "metadata": {
        "colab": {
          "base_uri": "https://localhost:8080/"
        },
        "id": "cSQacNR6VFp8",
        "outputId": "cfc139f9-0b54-459c-8167-170ae6b74a73"
      },
      "outputs": [
        {
          "output_type": "stream",
          "name": "stdout",
          "text": [
            "+--------------------------------+-------+\n",
            "|             Model              |  MSE  |\n",
            "+--------------------------------+-------+\n",
            "|       Linear Regression        | 13.58 |\n",
            "| Polynomial Model with Degree 2 |  5.01 |\n",
            "| Polynomial Model with Degree 5 | 92.27 |\n",
            "|       KNN Model with k=1       | 70.56 |\n",
            "|      KNN Model with k=20       | 47.26 |\n",
            "+--------------------------------+-------+\n"
          ]
        }
      ],
      "source": [
        "# Helper code to visualize the MSE of the 5 models\n",
        "pt = PrettyTable()\n",
        "pt.field_names = [\"Model\",\"MSE\"]\n",
        "pt.add_row([\"Linear Regression\", round(test_error[0],2)])\n",
        "pt.add_row([\"Polynomial Model with Degree 2\", round(test_error[1],2)])\n",
        "pt.add_row([\"Polynomial Model with Degree 5\", round(test_error[2],2)])\n",
        "pt.add_row([\"KNN Model with k=1\", round(test_error[3],2)])\n",
        "pt.add_row([\"KNN Model with k=20\", round(test_error[4],2)])\n",
        "print(pt)\n"
      ]
    }
  ]
}
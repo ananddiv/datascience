{
  "metadata": {
    "kernelspec": {
      "name": "python3",
      "display_name": "Python 3 (ipykernel)",
      "language": "python"
    },
    "colab": {
      "provenance": [],
      "include_colab_link": true
    }
  },
  "nbformat": 4,
  "nbformat_minor": 5,
  "cells": [
    {
      "cell_type": "markdown",
      "metadata": {
        "id": "view-in-github",
        "colab_type": "text"
      },
      "source": [
        "<a href=\"https://colab.research.google.com/github/ananddiv/datascience/blob/Linear-Regression/interp_diff_scales.ipynb\" target=\"_parent\"><img src=\"https://colab.research.google.com/assets/colab-badge.svg\" alt=\"Open In Colab\"/></a>"
      ]
    },
    {
      "cell_type": "code",
      "execution_count": 1,
      "metadata": {
        "id": "dYuMMR9ucaPX"
      },
      "outputs": [],
      "source": [
        "import pandas as pd\n",
        "import matplotlib.pyplot as plt\n",
        "from sklearn.linear_model import LinearRegression"
      ],
      "id": "dYuMMR9ucaPX"
    },
    {
      "cell_type": "markdown",
      "metadata": {
        "id": "jtPc6oMKcaPZ"
      },
      "source": [
        "## Coefficient Interpretation on Different Scales\n",
        "\n",
        "In this notebook we'll interpret a regression model's coefficients to understand the relationship between the predictors and the response. We'll be using the now familiar advertising data."
      ],
      "id": "jtPc6oMKcaPZ"
    },
    {
      "cell_type": "code",
      "execution_count": 16,
      "metadata": {
        "colab": {
          "base_uri": "https://localhost:8080/",
          "height": 206
        },
        "id": "QNnkLVs8caPa",
        "outputId": "781595b9-c963-45f3-aeec-d41559bba1cb"
      },
      "outputs": [
        {
          "output_type": "execute_result",
          "data": {
            "text/plain": [
              "      TV  Radio  Newspaper  Sales\n",
              "0  230.1   37.8       69.2   22.1\n",
              "1   44.5   39.3       45.1   10.4\n",
              "2   17.2   45.9       69.3    9.3\n",
              "3  151.5   41.3       58.5   18.5\n",
              "4  180.8   10.8       58.4   12.9"
            ],
            "text/html": [
              "\n",
              "  <div id=\"df-0e55b829-8f52-467b-b3a2-b6abf6b607e3\" class=\"colab-df-container\">\n",
              "    <div>\n",
              "<style scoped>\n",
              "    .dataframe tbody tr th:only-of-type {\n",
              "        vertical-align: middle;\n",
              "    }\n",
              "\n",
              "    .dataframe tbody tr th {\n",
              "        vertical-align: top;\n",
              "    }\n",
              "\n",
              "    .dataframe thead th {\n",
              "        text-align: right;\n",
              "    }\n",
              "</style>\n",
              "<table border=\"1\" class=\"dataframe\">\n",
              "  <thead>\n",
              "    <tr style=\"text-align: right;\">\n",
              "      <th></th>\n",
              "      <th>TV</th>\n",
              "      <th>Radio</th>\n",
              "      <th>Newspaper</th>\n",
              "      <th>Sales</th>\n",
              "    </tr>\n",
              "  </thead>\n",
              "  <tbody>\n",
              "    <tr>\n",
              "      <th>0</th>\n",
              "      <td>230.1</td>\n",
              "      <td>37.8</td>\n",
              "      <td>69.2</td>\n",
              "      <td>22.1</td>\n",
              "    </tr>\n",
              "    <tr>\n",
              "      <th>1</th>\n",
              "      <td>44.5</td>\n",
              "      <td>39.3</td>\n",
              "      <td>45.1</td>\n",
              "      <td>10.4</td>\n",
              "    </tr>\n",
              "    <tr>\n",
              "      <th>2</th>\n",
              "      <td>17.2</td>\n",
              "      <td>45.9</td>\n",
              "      <td>69.3</td>\n",
              "      <td>9.3</td>\n",
              "    </tr>\n",
              "    <tr>\n",
              "      <th>3</th>\n",
              "      <td>151.5</td>\n",
              "      <td>41.3</td>\n",
              "      <td>58.5</td>\n",
              "      <td>18.5</td>\n",
              "    </tr>\n",
              "    <tr>\n",
              "      <th>4</th>\n",
              "      <td>180.8</td>\n",
              "      <td>10.8</td>\n",
              "      <td>58.4</td>\n",
              "      <td>12.9</td>\n",
              "    </tr>\n",
              "  </tbody>\n",
              "</table>\n",
              "</div>\n",
              "    <div class=\"colab-df-buttons\">\n",
              "\n",
              "  <div class=\"colab-df-container\">\n",
              "    <button class=\"colab-df-convert\" onclick=\"convertToInteractive('df-0e55b829-8f52-467b-b3a2-b6abf6b607e3')\"\n",
              "            title=\"Convert this dataframe to an interactive table.\"\n",
              "            style=\"display:none;\">\n",
              "\n",
              "  <svg xmlns=\"http://www.w3.org/2000/svg\" height=\"24px\" viewBox=\"0 -960 960 960\">\n",
              "    <path d=\"M120-120v-720h720v720H120Zm60-500h600v-160H180v160Zm220 220h160v-160H400v160Zm0 220h160v-160H400v160ZM180-400h160v-160H180v160Zm440 0h160v-160H620v160ZM180-180h160v-160H180v160Zm440 0h160v-160H620v160Z\"/>\n",
              "  </svg>\n",
              "    </button>\n",
              "\n",
              "  <style>\n",
              "    .colab-df-container {\n",
              "      display:flex;\n",
              "      gap: 12px;\n",
              "    }\n",
              "\n",
              "    .colab-df-convert {\n",
              "      background-color: #E8F0FE;\n",
              "      border: none;\n",
              "      border-radius: 50%;\n",
              "      cursor: pointer;\n",
              "      display: none;\n",
              "      fill: #1967D2;\n",
              "      height: 32px;\n",
              "      padding: 0 0 0 0;\n",
              "      width: 32px;\n",
              "    }\n",
              "\n",
              "    .colab-df-convert:hover {\n",
              "      background-color: #E2EBFA;\n",
              "      box-shadow: 0px 1px 2px rgba(60, 64, 67, 0.3), 0px 1px 3px 1px rgba(60, 64, 67, 0.15);\n",
              "      fill: #174EA6;\n",
              "    }\n",
              "\n",
              "    .colab-df-buttons div {\n",
              "      margin-bottom: 4px;\n",
              "    }\n",
              "\n",
              "    [theme=dark] .colab-df-convert {\n",
              "      background-color: #3B4455;\n",
              "      fill: #D2E3FC;\n",
              "    }\n",
              "\n",
              "    [theme=dark] .colab-df-convert:hover {\n",
              "      background-color: #434B5C;\n",
              "      box-shadow: 0px 1px 3px 1px rgba(0, 0, 0, 0.15);\n",
              "      filter: drop-shadow(0px 1px 2px rgba(0, 0, 0, 0.3));\n",
              "      fill: #FFFFFF;\n",
              "    }\n",
              "  </style>\n",
              "\n",
              "    <script>\n",
              "      const buttonEl =\n",
              "        document.querySelector('#df-0e55b829-8f52-467b-b3a2-b6abf6b607e3 button.colab-df-convert');\n",
              "      buttonEl.style.display =\n",
              "        google.colab.kernel.accessAllowed ? 'block' : 'none';\n",
              "\n",
              "      async function convertToInteractive(key) {\n",
              "        const element = document.querySelector('#df-0e55b829-8f52-467b-b3a2-b6abf6b607e3');\n",
              "        const dataTable =\n",
              "          await google.colab.kernel.invokeFunction('convertToInteractive',\n",
              "                                                    [key], {});\n",
              "        if (!dataTable) return;\n",
              "\n",
              "        const docLinkHtml = 'Like what you see? Visit the ' +\n",
              "          '<a target=\"_blank\" href=https://colab.research.google.com/notebooks/data_table.ipynb>data table notebook</a>'\n",
              "          + ' to learn more about interactive tables.';\n",
              "        element.innerHTML = '';\n",
              "        dataTable['output_type'] = 'display_data';\n",
              "        await google.colab.output.renderOutput(dataTable, element);\n",
              "        const docLink = document.createElement('div');\n",
              "        docLink.innerHTML = docLinkHtml;\n",
              "        element.appendChild(docLink);\n",
              "      }\n",
              "    </script>\n",
              "  </div>\n",
              "\n",
              "\n",
              "<div id=\"df-0aa3a32e-1515-4bc0-9866-2103008e5064\">\n",
              "  <button class=\"colab-df-quickchart\" onclick=\"quickchart('df-0aa3a32e-1515-4bc0-9866-2103008e5064')\"\n",
              "            title=\"Suggest charts\"\n",
              "            style=\"display:none;\">\n",
              "\n",
              "<svg xmlns=\"http://www.w3.org/2000/svg\" height=\"24px\"viewBox=\"0 0 24 24\"\n",
              "     width=\"24px\">\n",
              "    <g>\n",
              "        <path d=\"M19 3H5c-1.1 0-2 .9-2 2v14c0 1.1.9 2 2 2h14c1.1 0 2-.9 2-2V5c0-1.1-.9-2-2-2zM9 17H7v-7h2v7zm4 0h-2V7h2v10zm4 0h-2v-4h2v4z\"/>\n",
              "    </g>\n",
              "</svg>\n",
              "  </button>\n",
              "\n",
              "<style>\n",
              "  .colab-df-quickchart {\n",
              "      --bg-color: #E8F0FE;\n",
              "      --fill-color: #1967D2;\n",
              "      --hover-bg-color: #E2EBFA;\n",
              "      --hover-fill-color: #174EA6;\n",
              "      --disabled-fill-color: #AAA;\n",
              "      --disabled-bg-color: #DDD;\n",
              "  }\n",
              "\n",
              "  [theme=dark] .colab-df-quickchart {\n",
              "      --bg-color: #3B4455;\n",
              "      --fill-color: #D2E3FC;\n",
              "      --hover-bg-color: #434B5C;\n",
              "      --hover-fill-color: #FFFFFF;\n",
              "      --disabled-bg-color: #3B4455;\n",
              "      --disabled-fill-color: #666;\n",
              "  }\n",
              "\n",
              "  .colab-df-quickchart {\n",
              "    background-color: var(--bg-color);\n",
              "    border: none;\n",
              "    border-radius: 50%;\n",
              "    cursor: pointer;\n",
              "    display: none;\n",
              "    fill: var(--fill-color);\n",
              "    height: 32px;\n",
              "    padding: 0;\n",
              "    width: 32px;\n",
              "  }\n",
              "\n",
              "  .colab-df-quickchart:hover {\n",
              "    background-color: var(--hover-bg-color);\n",
              "    box-shadow: 0 1px 2px rgba(60, 64, 67, 0.3), 0 1px 3px 1px rgba(60, 64, 67, 0.15);\n",
              "    fill: var(--button-hover-fill-color);\n",
              "  }\n",
              "\n",
              "  .colab-df-quickchart-complete:disabled,\n",
              "  .colab-df-quickchart-complete:disabled:hover {\n",
              "    background-color: var(--disabled-bg-color);\n",
              "    fill: var(--disabled-fill-color);\n",
              "    box-shadow: none;\n",
              "  }\n",
              "\n",
              "  .colab-df-spinner {\n",
              "    border: 2px solid var(--fill-color);\n",
              "    border-color: transparent;\n",
              "    border-bottom-color: var(--fill-color);\n",
              "    animation:\n",
              "      spin 1s steps(1) infinite;\n",
              "  }\n",
              "\n",
              "  @keyframes spin {\n",
              "    0% {\n",
              "      border-color: transparent;\n",
              "      border-bottom-color: var(--fill-color);\n",
              "      border-left-color: var(--fill-color);\n",
              "    }\n",
              "    20% {\n",
              "      border-color: transparent;\n",
              "      border-left-color: var(--fill-color);\n",
              "      border-top-color: var(--fill-color);\n",
              "    }\n",
              "    30% {\n",
              "      border-color: transparent;\n",
              "      border-left-color: var(--fill-color);\n",
              "      border-top-color: var(--fill-color);\n",
              "      border-right-color: var(--fill-color);\n",
              "    }\n",
              "    40% {\n",
              "      border-color: transparent;\n",
              "      border-right-color: var(--fill-color);\n",
              "      border-top-color: var(--fill-color);\n",
              "    }\n",
              "    60% {\n",
              "      border-color: transparent;\n",
              "      border-right-color: var(--fill-color);\n",
              "    }\n",
              "    80% {\n",
              "      border-color: transparent;\n",
              "      border-right-color: var(--fill-color);\n",
              "      border-bottom-color: var(--fill-color);\n",
              "    }\n",
              "    90% {\n",
              "      border-color: transparent;\n",
              "      border-bottom-color: var(--fill-color);\n",
              "    }\n",
              "  }\n",
              "</style>\n",
              "\n",
              "  <script>\n",
              "    async function quickchart(key) {\n",
              "      const quickchartButtonEl =\n",
              "        document.querySelector('#' + key + ' button');\n",
              "      quickchartButtonEl.disabled = true;  // To prevent multiple clicks.\n",
              "      quickchartButtonEl.classList.add('colab-df-spinner');\n",
              "      try {\n",
              "        const charts = await google.colab.kernel.invokeFunction(\n",
              "            'suggestCharts', [key], {});\n",
              "      } catch (error) {\n",
              "        console.error('Error during call to suggestCharts:', error);\n",
              "      }\n",
              "      quickchartButtonEl.classList.remove('colab-df-spinner');\n",
              "      quickchartButtonEl.classList.add('colab-df-quickchart-complete');\n",
              "    }\n",
              "    (() => {\n",
              "      let quickchartButtonEl =\n",
              "        document.querySelector('#df-0aa3a32e-1515-4bc0-9866-2103008e5064 button');\n",
              "      quickchartButtonEl.style.display =\n",
              "        google.colab.kernel.accessAllowed ? 'block' : 'none';\n",
              "    })();\n",
              "  </script>\n",
              "</div>\n",
              "\n",
              "    </div>\n",
              "  </div>\n"
            ]
          },
          "metadata": {},
          "execution_count": 16
        }
      ],
      "source": [
        "df = pd.read_csv('Advertising.csv')\n",
        "df.head()"
      ],
      "id": "QNnkLVs8caPa"
    },
    {
      "cell_type": "markdown",
      "metadata": {
        "id": "z0r0nfiHcaPb"
      },
      "source": [
        "All values are in thousands of dollars.\\\n",
        "Again, we want to predict `Sales` from the various media advertising budgets.\n",
        "\n",
        "So next we'll create our predictor matrix, $X$ and response vector, $y$."
      ],
      "id": "z0r0nfiHcaPb"
    },
    {
      "cell_type": "code",
      "execution_count": 17,
      "metadata": {
        "id": "p1D5M4VTcaPc"
      },
      "outputs": [],
      "source": [
        "X = df.drop(columns = 'Sales')\n",
        "y = df.Sales.values"
      ],
      "id": "p1D5M4VTcaPc"
    },
    {
      "cell_type": "code",
      "source": [
        "X"
      ],
      "metadata": {
        "colab": {
          "base_uri": "https://localhost:8080/",
          "height": 424
        },
        "id": "tK7Vxh9GDepw",
        "outputId": "8d0fec94-8718-435e-f6a2-9ba25e549572"
      },
      "id": "tK7Vxh9GDepw",
      "execution_count": 18,
      "outputs": [
        {
          "output_type": "execute_result",
          "data": {
            "text/plain": [
              "        TV  Radio  Newspaper\n",
              "0    230.1   37.8       69.2\n",
              "1     44.5   39.3       45.1\n",
              "2     17.2   45.9       69.3\n",
              "3    151.5   41.3       58.5\n",
              "4    180.8   10.8       58.4\n",
              "..     ...    ...        ...\n",
              "195   38.2    3.7       13.8\n",
              "196   94.2    4.9        8.1\n",
              "197  177.0    9.3        6.4\n",
              "198  283.6   42.0       66.2\n",
              "199  232.1    8.6        8.7\n",
              "\n",
              "[200 rows x 3 columns]"
            ],
            "text/html": [
              "\n",
              "  <div id=\"df-f0e09346-2c0d-4a06-9bff-53ac337ded56\" class=\"colab-df-container\">\n",
              "    <div>\n",
              "<style scoped>\n",
              "    .dataframe tbody tr th:only-of-type {\n",
              "        vertical-align: middle;\n",
              "    }\n",
              "\n",
              "    .dataframe tbody tr th {\n",
              "        vertical-align: top;\n",
              "    }\n",
              "\n",
              "    .dataframe thead th {\n",
              "        text-align: right;\n",
              "    }\n",
              "</style>\n",
              "<table border=\"1\" class=\"dataframe\">\n",
              "  <thead>\n",
              "    <tr style=\"text-align: right;\">\n",
              "      <th></th>\n",
              "      <th>TV</th>\n",
              "      <th>Radio</th>\n",
              "      <th>Newspaper</th>\n",
              "    </tr>\n",
              "  </thead>\n",
              "  <tbody>\n",
              "    <tr>\n",
              "      <th>0</th>\n",
              "      <td>230.1</td>\n",
              "      <td>37.8</td>\n",
              "      <td>69.2</td>\n",
              "    </tr>\n",
              "    <tr>\n",
              "      <th>1</th>\n",
              "      <td>44.5</td>\n",
              "      <td>39.3</td>\n",
              "      <td>45.1</td>\n",
              "    </tr>\n",
              "    <tr>\n",
              "      <th>2</th>\n",
              "      <td>17.2</td>\n",
              "      <td>45.9</td>\n",
              "      <td>69.3</td>\n",
              "    </tr>\n",
              "    <tr>\n",
              "      <th>3</th>\n",
              "      <td>151.5</td>\n",
              "      <td>41.3</td>\n",
              "      <td>58.5</td>\n",
              "    </tr>\n",
              "    <tr>\n",
              "      <th>4</th>\n",
              "      <td>180.8</td>\n",
              "      <td>10.8</td>\n",
              "      <td>58.4</td>\n",
              "    </tr>\n",
              "    <tr>\n",
              "      <th>...</th>\n",
              "      <td>...</td>\n",
              "      <td>...</td>\n",
              "      <td>...</td>\n",
              "    </tr>\n",
              "    <tr>\n",
              "      <th>195</th>\n",
              "      <td>38.2</td>\n",
              "      <td>3.7</td>\n",
              "      <td>13.8</td>\n",
              "    </tr>\n",
              "    <tr>\n",
              "      <th>196</th>\n",
              "      <td>94.2</td>\n",
              "      <td>4.9</td>\n",
              "      <td>8.1</td>\n",
              "    </tr>\n",
              "    <tr>\n",
              "      <th>197</th>\n",
              "      <td>177.0</td>\n",
              "      <td>9.3</td>\n",
              "      <td>6.4</td>\n",
              "    </tr>\n",
              "    <tr>\n",
              "      <th>198</th>\n",
              "      <td>283.6</td>\n",
              "      <td>42.0</td>\n",
              "      <td>66.2</td>\n",
              "    </tr>\n",
              "    <tr>\n",
              "      <th>199</th>\n",
              "      <td>232.1</td>\n",
              "      <td>8.6</td>\n",
              "      <td>8.7</td>\n",
              "    </tr>\n",
              "  </tbody>\n",
              "</table>\n",
              "<p>200 rows × 3 columns</p>\n",
              "</div>\n",
              "    <div class=\"colab-df-buttons\">\n",
              "\n",
              "  <div class=\"colab-df-container\">\n",
              "    <button class=\"colab-df-convert\" onclick=\"convertToInteractive('df-f0e09346-2c0d-4a06-9bff-53ac337ded56')\"\n",
              "            title=\"Convert this dataframe to an interactive table.\"\n",
              "            style=\"display:none;\">\n",
              "\n",
              "  <svg xmlns=\"http://www.w3.org/2000/svg\" height=\"24px\" viewBox=\"0 -960 960 960\">\n",
              "    <path d=\"M120-120v-720h720v720H120Zm60-500h600v-160H180v160Zm220 220h160v-160H400v160Zm0 220h160v-160H400v160ZM180-400h160v-160H180v160Zm440 0h160v-160H620v160ZM180-180h160v-160H180v160Zm440 0h160v-160H620v160Z\"/>\n",
              "  </svg>\n",
              "    </button>\n",
              "\n",
              "  <style>\n",
              "    .colab-df-container {\n",
              "      display:flex;\n",
              "      gap: 12px;\n",
              "    }\n",
              "\n",
              "    .colab-df-convert {\n",
              "      background-color: #E8F0FE;\n",
              "      border: none;\n",
              "      border-radius: 50%;\n",
              "      cursor: pointer;\n",
              "      display: none;\n",
              "      fill: #1967D2;\n",
              "      height: 32px;\n",
              "      padding: 0 0 0 0;\n",
              "      width: 32px;\n",
              "    }\n",
              "\n",
              "    .colab-df-convert:hover {\n",
              "      background-color: #E2EBFA;\n",
              "      box-shadow: 0px 1px 2px rgba(60, 64, 67, 0.3), 0px 1px 3px 1px rgba(60, 64, 67, 0.15);\n",
              "      fill: #174EA6;\n",
              "    }\n",
              "\n",
              "    .colab-df-buttons div {\n",
              "      margin-bottom: 4px;\n",
              "    }\n",
              "\n",
              "    [theme=dark] .colab-df-convert {\n",
              "      background-color: #3B4455;\n",
              "      fill: #D2E3FC;\n",
              "    }\n",
              "\n",
              "    [theme=dark] .colab-df-convert:hover {\n",
              "      background-color: #434B5C;\n",
              "      box-shadow: 0px 1px 3px 1px rgba(0, 0, 0, 0.15);\n",
              "      filter: drop-shadow(0px 1px 2px rgba(0, 0, 0, 0.3));\n",
              "      fill: #FFFFFF;\n",
              "    }\n",
              "  </style>\n",
              "\n",
              "    <script>\n",
              "      const buttonEl =\n",
              "        document.querySelector('#df-f0e09346-2c0d-4a06-9bff-53ac337ded56 button.colab-df-convert');\n",
              "      buttonEl.style.display =\n",
              "        google.colab.kernel.accessAllowed ? 'block' : 'none';\n",
              "\n",
              "      async function convertToInteractive(key) {\n",
              "        const element = document.querySelector('#df-f0e09346-2c0d-4a06-9bff-53ac337ded56');\n",
              "        const dataTable =\n",
              "          await google.colab.kernel.invokeFunction('convertToInteractive',\n",
              "                                                    [key], {});\n",
              "        if (!dataTable) return;\n",
              "\n",
              "        const docLinkHtml = 'Like what you see? Visit the ' +\n",
              "          '<a target=\"_blank\" href=https://colab.research.google.com/notebooks/data_table.ipynb>data table notebook</a>'\n",
              "          + ' to learn more about interactive tables.';\n",
              "        element.innerHTML = '';\n",
              "        dataTable['output_type'] = 'display_data';\n",
              "        await google.colab.output.renderOutput(dataTable, element);\n",
              "        const docLink = document.createElement('div');\n",
              "        docLink.innerHTML = docLinkHtml;\n",
              "        element.appendChild(docLink);\n",
              "      }\n",
              "    </script>\n",
              "  </div>\n",
              "\n",
              "\n",
              "<div id=\"df-4a1254e6-2f2f-4c37-bceb-0221b831c94f\">\n",
              "  <button class=\"colab-df-quickchart\" onclick=\"quickchart('df-4a1254e6-2f2f-4c37-bceb-0221b831c94f')\"\n",
              "            title=\"Suggest charts\"\n",
              "            style=\"display:none;\">\n",
              "\n",
              "<svg xmlns=\"http://www.w3.org/2000/svg\" height=\"24px\"viewBox=\"0 0 24 24\"\n",
              "     width=\"24px\">\n",
              "    <g>\n",
              "        <path d=\"M19 3H5c-1.1 0-2 .9-2 2v14c0 1.1.9 2 2 2h14c1.1 0 2-.9 2-2V5c0-1.1-.9-2-2-2zM9 17H7v-7h2v7zm4 0h-2V7h2v10zm4 0h-2v-4h2v4z\"/>\n",
              "    </g>\n",
              "</svg>\n",
              "  </button>\n",
              "\n",
              "<style>\n",
              "  .colab-df-quickchart {\n",
              "      --bg-color: #E8F0FE;\n",
              "      --fill-color: #1967D2;\n",
              "      --hover-bg-color: #E2EBFA;\n",
              "      --hover-fill-color: #174EA6;\n",
              "      --disabled-fill-color: #AAA;\n",
              "      --disabled-bg-color: #DDD;\n",
              "  }\n",
              "\n",
              "  [theme=dark] .colab-df-quickchart {\n",
              "      --bg-color: #3B4455;\n",
              "      --fill-color: #D2E3FC;\n",
              "      --hover-bg-color: #434B5C;\n",
              "      --hover-fill-color: #FFFFFF;\n",
              "      --disabled-bg-color: #3B4455;\n",
              "      --disabled-fill-color: #666;\n",
              "  }\n",
              "\n",
              "  .colab-df-quickchart {\n",
              "    background-color: var(--bg-color);\n",
              "    border: none;\n",
              "    border-radius: 50%;\n",
              "    cursor: pointer;\n",
              "    display: none;\n",
              "    fill: var(--fill-color);\n",
              "    height: 32px;\n",
              "    padding: 0;\n",
              "    width: 32px;\n",
              "  }\n",
              "\n",
              "  .colab-df-quickchart:hover {\n",
              "    background-color: var(--hover-bg-color);\n",
              "    box-shadow: 0 1px 2px rgba(60, 64, 67, 0.3), 0 1px 3px 1px rgba(60, 64, 67, 0.15);\n",
              "    fill: var(--button-hover-fill-color);\n",
              "  }\n",
              "\n",
              "  .colab-df-quickchart-complete:disabled,\n",
              "  .colab-df-quickchart-complete:disabled:hover {\n",
              "    background-color: var(--disabled-bg-color);\n",
              "    fill: var(--disabled-fill-color);\n",
              "    box-shadow: none;\n",
              "  }\n",
              "\n",
              "  .colab-df-spinner {\n",
              "    border: 2px solid var(--fill-color);\n",
              "    border-color: transparent;\n",
              "    border-bottom-color: var(--fill-color);\n",
              "    animation:\n",
              "      spin 1s steps(1) infinite;\n",
              "  }\n",
              "\n",
              "  @keyframes spin {\n",
              "    0% {\n",
              "      border-color: transparent;\n",
              "      border-bottom-color: var(--fill-color);\n",
              "      border-left-color: var(--fill-color);\n",
              "    }\n",
              "    20% {\n",
              "      border-color: transparent;\n",
              "      border-left-color: var(--fill-color);\n",
              "      border-top-color: var(--fill-color);\n",
              "    }\n",
              "    30% {\n",
              "      border-color: transparent;\n",
              "      border-left-color: var(--fill-color);\n",
              "      border-top-color: var(--fill-color);\n",
              "      border-right-color: var(--fill-color);\n",
              "    }\n",
              "    40% {\n",
              "      border-color: transparent;\n",
              "      border-right-color: var(--fill-color);\n",
              "      border-top-color: var(--fill-color);\n",
              "    }\n",
              "    60% {\n",
              "      border-color: transparent;\n",
              "      border-right-color: var(--fill-color);\n",
              "    }\n",
              "    80% {\n",
              "      border-color: transparent;\n",
              "      border-right-color: var(--fill-color);\n",
              "      border-bottom-color: var(--fill-color);\n",
              "    }\n",
              "    90% {\n",
              "      border-color: transparent;\n",
              "      border-bottom-color: var(--fill-color);\n",
              "    }\n",
              "  }\n",
              "</style>\n",
              "\n",
              "  <script>\n",
              "    async function quickchart(key) {\n",
              "      const quickchartButtonEl =\n",
              "        document.querySelector('#' + key + ' button');\n",
              "      quickchartButtonEl.disabled = true;  // To prevent multiple clicks.\n",
              "      quickchartButtonEl.classList.add('colab-df-spinner');\n",
              "      try {\n",
              "        const charts = await google.colab.kernel.invokeFunction(\n",
              "            'suggestCharts', [key], {});\n",
              "      } catch (error) {\n",
              "        console.error('Error during call to suggestCharts:', error);\n",
              "      }\n",
              "      quickchartButtonEl.classList.remove('colab-df-spinner');\n",
              "      quickchartButtonEl.classList.add('colab-df-quickchart-complete');\n",
              "    }\n",
              "    (() => {\n",
              "      let quickchartButtonEl =\n",
              "        document.querySelector('#df-4a1254e6-2f2f-4c37-bceb-0221b831c94f button');\n",
              "      quickchartButtonEl.style.display =\n",
              "        google.colab.kernel.accessAllowed ? 'block' : 'none';\n",
              "    })();\n",
              "  </script>\n",
              "</div>\n",
              "\n",
              "  <div id=\"id_b827c960-d9c4-4112-9b94-87316236fcfd\">\n",
              "    <style>\n",
              "      .colab-df-generate {\n",
              "        background-color: #E8F0FE;\n",
              "        border: none;\n",
              "        border-radius: 50%;\n",
              "        cursor: pointer;\n",
              "        display: none;\n",
              "        fill: #1967D2;\n",
              "        height: 32px;\n",
              "        padding: 0 0 0 0;\n",
              "        width: 32px;\n",
              "      }\n",
              "\n",
              "      .colab-df-generate:hover {\n",
              "        background-color: #E2EBFA;\n",
              "        box-shadow: 0px 1px 2px rgba(60, 64, 67, 0.3), 0px 1px 3px 1px rgba(60, 64, 67, 0.15);\n",
              "        fill: #174EA6;\n",
              "      }\n",
              "\n",
              "      [theme=dark] .colab-df-generate {\n",
              "        background-color: #3B4455;\n",
              "        fill: #D2E3FC;\n",
              "      }\n",
              "\n",
              "      [theme=dark] .colab-df-generate:hover {\n",
              "        background-color: #434B5C;\n",
              "        box-shadow: 0px 1px 3px 1px rgba(0, 0, 0, 0.15);\n",
              "        filter: drop-shadow(0px 1px 2px rgba(0, 0, 0, 0.3));\n",
              "        fill: #FFFFFF;\n",
              "      }\n",
              "    </style>\n",
              "    <button class=\"colab-df-generate\" onclick=\"generateWithVariable('X')\"\n",
              "            title=\"Generate code using this dataframe.\"\n",
              "            style=\"display:none;\">\n",
              "\n",
              "  <svg xmlns=\"http://www.w3.org/2000/svg\" height=\"24px\"viewBox=\"0 0 24 24\"\n",
              "       width=\"24px\">\n",
              "    <path d=\"M7,19H8.4L18.45,9,17,7.55,7,17.6ZM5,21V16.75L18.45,3.32a2,2,0,0,1,2.83,0l1.4,1.43a1.91,1.91,0,0,1,.58,1.4,1.91,1.91,0,0,1-.58,1.4L9.25,21ZM18.45,9,17,7.55Zm-12,3A5.31,5.31,0,0,0,4.9,8.1,5.31,5.31,0,0,0,1,6.5,5.31,5.31,0,0,0,4.9,4.9,5.31,5.31,0,0,0,6.5,1,5.31,5.31,0,0,0,8.1,4.9,5.31,5.31,0,0,0,12,6.5,5.46,5.46,0,0,0,6.5,12Z\"/>\n",
              "  </svg>\n",
              "    </button>\n",
              "    <script>\n",
              "      (() => {\n",
              "      const buttonEl =\n",
              "        document.querySelector('#id_b827c960-d9c4-4112-9b94-87316236fcfd button.colab-df-generate');\n",
              "      buttonEl.style.display =\n",
              "        google.colab.kernel.accessAllowed ? 'block' : 'none';\n",
              "\n",
              "      buttonEl.onclick = () => {\n",
              "        google.colab.notebook.generateWithVariable('X');\n",
              "      }\n",
              "      })();\n",
              "    </script>\n",
              "  </div>\n",
              "\n",
              "    </div>\n",
              "  </div>\n"
            ]
          },
          "metadata": {},
          "execution_count": 18
        }
      ]
    },
    {
      "cell_type": "markdown",
      "metadata": {
        "id": "LhvQzwT6caPc"
      },
      "source": [
        "Which we can use to fit our linear regression model."
      ],
      "id": "LhvQzwT6caPc"
    },
    {
      "cell_type": "code",
      "execution_count": 19,
      "metadata": {
        "id": "1j7cky0scaPd"
      },
      "outputs": [],
      "source": [
        "lm = LinearRegression().fit(X,y)"
      ],
      "id": "1j7cky0scaPd"
    },
    {
      "cell_type": "code",
      "source": [
        "lm.coef_"
      ],
      "metadata": {
        "colab": {
          "base_uri": "https://localhost:8080/"
        },
        "id": "RKPtSj7RDWwq",
        "outputId": "88f3c007-d20b-4ac1-ac88-fd6a905ef686"
      },
      "id": "RKPtSj7RDWwq",
      "execution_count": 20,
      "outputs": [
        {
          "output_type": "execute_result",
          "data": {
            "text/plain": [
              "array([ 0.04576465,  0.18853002, -0.00103749])"
            ]
          },
          "metadata": {},
          "execution_count": 20
        }
      ]
    },
    {
      "cell_type": "markdown",
      "metadata": {
        "id": "LL8Afd2ucaPd"
      },
      "source": [
        "Now we inspect the predictor coefficient values derived from the fit.\\\n",
        "These are the $\\beta$ values that maximize our $R^2$ loss."
      ],
      "id": "LL8Afd2ucaPd"
    },
    {
      "cell_type": "code",
      "execution_count": 21,
      "metadata": {
        "colab": {
          "base_uri": "https://localhost:8080/"
        },
        "id": "ESkM-Q3ncaPd",
        "outputId": "a4c80632-3fce-409a-f380-5214cef10cf0"
      },
      "outputs": [
        {
          "output_type": "stream",
          "name": "stdout",
          "text": [
            "Model Coefficients\n",
            "       TV:  0.046\n",
            "    Radio:  0.189\n",
            "Newspaper: -0.001\n",
            "\n",
            "R^2: 0.8972\n"
          ]
        }
      ],
      "source": [
        "# you can learn more about Python format strings here:\n",
        "# https://docs.python.org/3/tutorial/inputoutput.html\n",
        "print(f'{\"Model Coefficients\":>9}')\n",
        "for col, coef in zip(X.columns, lm.coef_):\n",
        "    print(f'{col:>9}: {coef:>6.3f}')\n",
        "print(f'\\nR^2: {lm.score(X,y):.4}')"
      ],
      "id": "ESkM-Q3ncaPd"
    },
    {
      "cell_type": "markdown",
      "metadata": {
        "id": "K4iVD6D8caPe"
      },
      "source": [
        "As mentioned above, the original units are in thousands of dollars. To make discussion a bit simplier we'll convert this to dollars by multipling our original DataFrame by 1000. This will also help illustrate a point about **feature scaling**."
      ],
      "id": "K4iVD6D8caPe"
    },
    {
      "cell_type": "code",
      "execution_count": 22,
      "metadata": {
        "colab": {
          "base_uri": "https://localhost:8080/",
          "height": 206
        },
        "id": "Uvicfg09caPe",
        "outputId": "4ca73f1e-cbec-438c-8842-31616677a53e"
      },
      "outputs": [
        {
          "output_type": "execute_result",
          "data": {
            "text/plain": [
              "         TV    Radio  Newspaper    Sales\n",
              "0  230100.0  37800.0    69200.0  22100.0\n",
              "1   44500.0  39300.0    45100.0  10400.0\n",
              "2   17200.0  45900.0    69300.0   9300.0\n",
              "3  151500.0  41300.0    58500.0  18500.0\n",
              "4  180800.0  10800.0    58400.0  12900.0"
            ],
            "text/html": [
              "\n",
              "  <div id=\"df-b5878889-e411-42d4-bc8b-c38d1401e151\" class=\"colab-df-container\">\n",
              "    <div>\n",
              "<style scoped>\n",
              "    .dataframe tbody tr th:only-of-type {\n",
              "        vertical-align: middle;\n",
              "    }\n",
              "\n",
              "    .dataframe tbody tr th {\n",
              "        vertical-align: top;\n",
              "    }\n",
              "\n",
              "    .dataframe thead th {\n",
              "        text-align: right;\n",
              "    }\n",
              "</style>\n",
              "<table border=\"1\" class=\"dataframe\">\n",
              "  <thead>\n",
              "    <tr style=\"text-align: right;\">\n",
              "      <th></th>\n",
              "      <th>TV</th>\n",
              "      <th>Radio</th>\n",
              "      <th>Newspaper</th>\n",
              "      <th>Sales</th>\n",
              "    </tr>\n",
              "  </thead>\n",
              "  <tbody>\n",
              "    <tr>\n",
              "      <th>0</th>\n",
              "      <td>230100.0</td>\n",
              "      <td>37800.0</td>\n",
              "      <td>69200.0</td>\n",
              "      <td>22100.0</td>\n",
              "    </tr>\n",
              "    <tr>\n",
              "      <th>1</th>\n",
              "      <td>44500.0</td>\n",
              "      <td>39300.0</td>\n",
              "      <td>45100.0</td>\n",
              "      <td>10400.0</td>\n",
              "    </tr>\n",
              "    <tr>\n",
              "      <th>2</th>\n",
              "      <td>17200.0</td>\n",
              "      <td>45900.0</td>\n",
              "      <td>69300.0</td>\n",
              "      <td>9300.0</td>\n",
              "    </tr>\n",
              "    <tr>\n",
              "      <th>3</th>\n",
              "      <td>151500.0</td>\n",
              "      <td>41300.0</td>\n",
              "      <td>58500.0</td>\n",
              "      <td>18500.0</td>\n",
              "    </tr>\n",
              "    <tr>\n",
              "      <th>4</th>\n",
              "      <td>180800.0</td>\n",
              "      <td>10800.0</td>\n",
              "      <td>58400.0</td>\n",
              "      <td>12900.0</td>\n",
              "    </tr>\n",
              "  </tbody>\n",
              "</table>\n",
              "</div>\n",
              "    <div class=\"colab-df-buttons\">\n",
              "\n",
              "  <div class=\"colab-df-container\">\n",
              "    <button class=\"colab-df-convert\" onclick=\"convertToInteractive('df-b5878889-e411-42d4-bc8b-c38d1401e151')\"\n",
              "            title=\"Convert this dataframe to an interactive table.\"\n",
              "            style=\"display:none;\">\n",
              "\n",
              "  <svg xmlns=\"http://www.w3.org/2000/svg\" height=\"24px\" viewBox=\"0 -960 960 960\">\n",
              "    <path d=\"M120-120v-720h720v720H120Zm60-500h600v-160H180v160Zm220 220h160v-160H400v160Zm0 220h160v-160H400v160ZM180-400h160v-160H180v160Zm440 0h160v-160H620v160ZM180-180h160v-160H180v160Zm440 0h160v-160H620v160Z\"/>\n",
              "  </svg>\n",
              "    </button>\n",
              "\n",
              "  <style>\n",
              "    .colab-df-container {\n",
              "      display:flex;\n",
              "      gap: 12px;\n",
              "    }\n",
              "\n",
              "    .colab-df-convert {\n",
              "      background-color: #E8F0FE;\n",
              "      border: none;\n",
              "      border-radius: 50%;\n",
              "      cursor: pointer;\n",
              "      display: none;\n",
              "      fill: #1967D2;\n",
              "      height: 32px;\n",
              "      padding: 0 0 0 0;\n",
              "      width: 32px;\n",
              "    }\n",
              "\n",
              "    .colab-df-convert:hover {\n",
              "      background-color: #E2EBFA;\n",
              "      box-shadow: 0px 1px 2px rgba(60, 64, 67, 0.3), 0px 1px 3px 1px rgba(60, 64, 67, 0.15);\n",
              "      fill: #174EA6;\n",
              "    }\n",
              "\n",
              "    .colab-df-buttons div {\n",
              "      margin-bottom: 4px;\n",
              "    }\n",
              "\n",
              "    [theme=dark] .colab-df-convert {\n",
              "      background-color: #3B4455;\n",
              "      fill: #D2E3FC;\n",
              "    }\n",
              "\n",
              "    [theme=dark] .colab-df-convert:hover {\n",
              "      background-color: #434B5C;\n",
              "      box-shadow: 0px 1px 3px 1px rgba(0, 0, 0, 0.15);\n",
              "      filter: drop-shadow(0px 1px 2px rgba(0, 0, 0, 0.3));\n",
              "      fill: #FFFFFF;\n",
              "    }\n",
              "  </style>\n",
              "\n",
              "    <script>\n",
              "      const buttonEl =\n",
              "        document.querySelector('#df-b5878889-e411-42d4-bc8b-c38d1401e151 button.colab-df-convert');\n",
              "      buttonEl.style.display =\n",
              "        google.colab.kernel.accessAllowed ? 'block' : 'none';\n",
              "\n",
              "      async function convertToInteractive(key) {\n",
              "        const element = document.querySelector('#df-b5878889-e411-42d4-bc8b-c38d1401e151');\n",
              "        const dataTable =\n",
              "          await google.colab.kernel.invokeFunction('convertToInteractive',\n",
              "                                                    [key], {});\n",
              "        if (!dataTable) return;\n",
              "\n",
              "        const docLinkHtml = 'Like what you see? Visit the ' +\n",
              "          '<a target=\"_blank\" href=https://colab.research.google.com/notebooks/data_table.ipynb>data table notebook</a>'\n",
              "          + ' to learn more about interactive tables.';\n",
              "        element.innerHTML = '';\n",
              "        dataTable['output_type'] = 'display_data';\n",
              "        await google.colab.output.renderOutput(dataTable, element);\n",
              "        const docLink = document.createElement('div');\n",
              "        docLink.innerHTML = docLinkHtml;\n",
              "        element.appendChild(docLink);\n",
              "      }\n",
              "    </script>\n",
              "  </div>\n",
              "\n",
              "\n",
              "<div id=\"df-343d4a64-6759-4849-90bc-8367f1e2dce7\">\n",
              "  <button class=\"colab-df-quickchart\" onclick=\"quickchart('df-343d4a64-6759-4849-90bc-8367f1e2dce7')\"\n",
              "            title=\"Suggest charts\"\n",
              "            style=\"display:none;\">\n",
              "\n",
              "<svg xmlns=\"http://www.w3.org/2000/svg\" height=\"24px\"viewBox=\"0 0 24 24\"\n",
              "     width=\"24px\">\n",
              "    <g>\n",
              "        <path d=\"M19 3H5c-1.1 0-2 .9-2 2v14c0 1.1.9 2 2 2h14c1.1 0 2-.9 2-2V5c0-1.1-.9-2-2-2zM9 17H7v-7h2v7zm4 0h-2V7h2v10zm4 0h-2v-4h2v4z\"/>\n",
              "    </g>\n",
              "</svg>\n",
              "  </button>\n",
              "\n",
              "<style>\n",
              "  .colab-df-quickchart {\n",
              "      --bg-color: #E8F0FE;\n",
              "      --fill-color: #1967D2;\n",
              "      --hover-bg-color: #E2EBFA;\n",
              "      --hover-fill-color: #174EA6;\n",
              "      --disabled-fill-color: #AAA;\n",
              "      --disabled-bg-color: #DDD;\n",
              "  }\n",
              "\n",
              "  [theme=dark] .colab-df-quickchart {\n",
              "      --bg-color: #3B4455;\n",
              "      --fill-color: #D2E3FC;\n",
              "      --hover-bg-color: #434B5C;\n",
              "      --hover-fill-color: #FFFFFF;\n",
              "      --disabled-bg-color: #3B4455;\n",
              "      --disabled-fill-color: #666;\n",
              "  }\n",
              "\n",
              "  .colab-df-quickchart {\n",
              "    background-color: var(--bg-color);\n",
              "    border: none;\n",
              "    border-radius: 50%;\n",
              "    cursor: pointer;\n",
              "    display: none;\n",
              "    fill: var(--fill-color);\n",
              "    height: 32px;\n",
              "    padding: 0;\n",
              "    width: 32px;\n",
              "  }\n",
              "\n",
              "  .colab-df-quickchart:hover {\n",
              "    background-color: var(--hover-bg-color);\n",
              "    box-shadow: 0 1px 2px rgba(60, 64, 67, 0.3), 0 1px 3px 1px rgba(60, 64, 67, 0.15);\n",
              "    fill: var(--button-hover-fill-color);\n",
              "  }\n",
              "\n",
              "  .colab-df-quickchart-complete:disabled,\n",
              "  .colab-df-quickchart-complete:disabled:hover {\n",
              "    background-color: var(--disabled-bg-color);\n",
              "    fill: var(--disabled-fill-color);\n",
              "    box-shadow: none;\n",
              "  }\n",
              "\n",
              "  .colab-df-spinner {\n",
              "    border: 2px solid var(--fill-color);\n",
              "    border-color: transparent;\n",
              "    border-bottom-color: var(--fill-color);\n",
              "    animation:\n",
              "      spin 1s steps(1) infinite;\n",
              "  }\n",
              "\n",
              "  @keyframes spin {\n",
              "    0% {\n",
              "      border-color: transparent;\n",
              "      border-bottom-color: var(--fill-color);\n",
              "      border-left-color: var(--fill-color);\n",
              "    }\n",
              "    20% {\n",
              "      border-color: transparent;\n",
              "      border-left-color: var(--fill-color);\n",
              "      border-top-color: var(--fill-color);\n",
              "    }\n",
              "    30% {\n",
              "      border-color: transparent;\n",
              "      border-left-color: var(--fill-color);\n",
              "      border-top-color: var(--fill-color);\n",
              "      border-right-color: var(--fill-color);\n",
              "    }\n",
              "    40% {\n",
              "      border-color: transparent;\n",
              "      border-right-color: var(--fill-color);\n",
              "      border-top-color: var(--fill-color);\n",
              "    }\n",
              "    60% {\n",
              "      border-color: transparent;\n",
              "      border-right-color: var(--fill-color);\n",
              "    }\n",
              "    80% {\n",
              "      border-color: transparent;\n",
              "      border-right-color: var(--fill-color);\n",
              "      border-bottom-color: var(--fill-color);\n",
              "    }\n",
              "    90% {\n",
              "      border-color: transparent;\n",
              "      border-bottom-color: var(--fill-color);\n",
              "    }\n",
              "  }\n",
              "</style>\n",
              "\n",
              "  <script>\n",
              "    async function quickchart(key) {\n",
              "      const quickchartButtonEl =\n",
              "        document.querySelector('#' + key + ' button');\n",
              "      quickchartButtonEl.disabled = true;  // To prevent multiple clicks.\n",
              "      quickchartButtonEl.classList.add('colab-df-spinner');\n",
              "      try {\n",
              "        const charts = await google.colab.kernel.invokeFunction(\n",
              "            'suggestCharts', [key], {});\n",
              "      } catch (error) {\n",
              "        console.error('Error during call to suggestCharts:', error);\n",
              "      }\n",
              "      quickchartButtonEl.classList.remove('colab-df-spinner');\n",
              "      quickchartButtonEl.classList.add('colab-df-quickchart-complete');\n",
              "    }\n",
              "    (() => {\n",
              "      let quickchartButtonEl =\n",
              "        document.querySelector('#df-343d4a64-6759-4849-90bc-8367f1e2dce7 button');\n",
              "      quickchartButtonEl.style.display =\n",
              "        google.colab.kernel.accessAllowed ? 'block' : 'none';\n",
              "    })();\n",
              "  </script>\n",
              "</div>\n",
              "\n",
              "    </div>\n",
              "  </div>\n"
            ]
          },
          "metadata": {},
          "execution_count": 22
        }
      ],
      "source": [
        "# From info on this kind of assignment statement see:\n",
        "# https://python-reference.readthedocs.io/en/latest/docs/operators/multiplication_assignment.html\n",
        "df *= 1000\n",
        "df.head()"
      ],
      "id": "Uvicfg09caPe"
    },
    {
      "cell_type": "markdown",
      "metadata": {
        "id": "lx0rhtV1caPe"
      },
      "source": [
        "What do you expect to happen to the coefficients of the model now that it's been fit on scaled up data? Let's find out!"
      ],
      "id": "lx0rhtV1caPe"
    },
    {
      "cell_type": "code",
      "execution_count": 23,
      "metadata": {
        "colab": {
          "base_uri": "https://localhost:8080/"
        },
        "id": "XoSUXVeNcaPf",
        "outputId": "44a12c32-6a96-4ed9-d682-71a2947a62f8"
      },
      "outputs": [
        {
          "output_type": "stream",
          "name": "stdout",
          "text": [
            "Model Coefficients\n",
            "       TV:  0.046\n",
            "    Radio:  0.189\n",
            "Newspaper: -0.001\n",
            "\n",
            "R^2: 0.8972\n"
          ]
        }
      ],
      "source": [
        "# refit a new regression model on the scaled data\n",
        "X = df.drop('Sales', axis=1)\n",
        "y = df.Sales.values\n",
        "lm = LinearRegression().fit(X,y)\n",
        "\n",
        "print(f'{\"Model Coefficients\":>9}')\n",
        "for col, coef in zip(X.columns, lm.coef_):\n",
        "    print(f'{col:>9}: {coef:>6.3f}')\n",
        "print(f'\\nR^2: {lm.score(X,y):.4}')"
      ],
      "id": "XoSUXVeNcaPf"
    },
    {
      "cell_type": "markdown",
      "metadata": {
        "id": "jCkz2HcecaPf"
      },
      "source": [
        "The coefficients and the loss are exactly the same! This is not a fluke. **Linear regession coeffients are invariant under scaling**. That's because we've scaled both the predictors *and* the response by the same amount.\n",
        "\n",
        "Think of it this way:\\\n",
        "If a \\$1,000 increase in the `TV` budget is associated with a $\\beta$ thousand dollar increase in `Sales`, then a \\$1 increase in `TV` will result in an observed $\\beta$ dollar increase in `Sales`."
      ],
      "id": "jCkz2HcecaPf"
    },
    {
      "cell_type": "markdown",
      "metadata": {
        "id": "28FiWE3QcaPf"
      },
      "source": [
        "#### Visual Interpretation\n",
        "\n",
        "Let's create a visualization to help us interpret our model's coeffients.\\\n",
        "We'll use a horizontal bar plot."
      ],
      "id": "28FiWE3QcaPf"
    },
    {
      "cell_type": "code",
      "execution_count": 24,
      "metadata": {
        "colab": {
          "base_uri": "https://localhost:8080/",
          "height": 354
        },
        "id": "8t00hXbTcaPf",
        "outputId": "c771f4ec-e884-4c14-81d7-d1fed71d07eb"
      },
      "outputs": [
        {
          "output_type": "display_data",
          "data": {
            "text/plain": [
              "<Figure size 800x300 with 1 Axes>"
            ],
            "image/png": "[encoded data removed]"
          },
          "metadata": {}
        }
      ],
      "source": [
        "plt.figure(figsize=(8,3))\n",
        "# column names to be displayed on the y-axis\n",
        "cols = X.columns\n",
        "# coeffient values from our fitted model (the intercept is not included)\n",
        "coefs = lm.coef_\n",
        "# create the horizontal barplot\n",
        "plt.barh(cols, coefs)\n",
        "# dotted, semi-transparent, black vertical line at zero\n",
        "plt.axvline(0, c='k', ls='--', alpha=0.5)\n",
        "# always label your axes\n",
        "plt.ylabel('Predictor')\n",
        "plt.xlabel('Coefficient Values')\n",
        "# and create an informative title\n",
        "plt.title('Coefficients of Linear Model Predicting Sales\\n from Newspaper, '\\\n",
        "            'Radio, and TV Advertising Budgets (in Dollars)');"
      ],
      "id": "8t00hXbTcaPf"
    },
    {
      "cell_type": "markdown",
      "metadata": {
        "id": "IK6NZjMocaPg"
      },
      "source": [
        "**Q1**: Based on the plot above, advertising in which type of media has the largest effect on `Sales`?\n",
        "\n",
        "A. Newspaper\\\n",
        "B. Radio\\\n",
        "C. TV"
      ],
      "id": "IK6NZjMocaPg"
    },
    {
      "cell_type": "code",
      "execution_count": 9,
      "metadata": {
        "id": "SCbJQ758caPg"
      },
      "outputs": [],
      "source": [
        "### edTest(test_Q1) ###\n",
        "# your answer here\n",
        "Q1_ANSWER = 'B'"
      ],
      "id": "SCbJQ758caPg"
    },
    {
      "cell_type": "markdown",
      "metadata": {
        "id": "0jvRKCY5caPg"
      },
      "source": [
        "**Q2**: If the newspaper advertising budget were higher, what difference might we expect to see in sales?\n",
        "\n",
        "A. There would be no change\\\n",
        "B. Sales would increase, but only slightly\\\n",
        "C. Sales would decrease, but only slightly\\"
      ],
      "id": "0jvRKCY5caPg"
    },
    {
      "cell_type": "code",
      "execution_count": 25,
      "metadata": {
        "id": "RHBw4WPLcaPh"
      },
      "outputs": [],
      "source": [
        "### edTest(test_Q2) ###\n",
        "# your answer here\n",
        "Q2_ANSWER = 'B'"
      ],
      "id": "RHBw4WPLcaPh"
    },
    {
      "cell_type": "markdown",
      "metadata": {
        "id": "DjdUhGkgcaPh"
      },
      "source": [
        "But what happens when our predictors are *not* all on the same scale?\\\n",
        "To find out, we'll change the units of the 3 budgets by converting them into different currencies. Use the following conversion rates for this exercise:"
      ],
      "id": "DjdUhGkgcaPh"
    },
    {
      "cell_type": "markdown",
      "metadata": {
        "id": "_EHHcuw3caPh"
      },
      "source": [
        "<div>\n",
        "    <div class='img' style='float:left;padding:1em'>\n",
        "        <img src='img/rupee_SL.jpg' style='height:px70;width:200px' alt='200 Sri Lankan Rupees = \\$1'>\n",
        "        <span style='clear:left;display:block'>200 Sri Lankan Rupee = \\$1</span>\n",
        "    </div>\n",
        "    <div class='img' style='float:left;padding:1em'>\n",
        "        <img src='img/won.jpg' style='height:px70;width:200px;float:up' alt='1,175 South Korean Won = \\$1'>\n",
        "        <span style='clear:left;display:block;align:center'>1,175 South Korean Won = \\$1</span>\n",
        "    </div>\n",
        "    <div class='img' style='float:left;padding:1em'>\n",
        "        <img src='img/cedi.jpg' style='height:px70;width:200px' alt='6 Chanaian Cedi = \\$1'>\n",
        "        <span style='clear:left;display:block;align:center'>6 Ghanaian Cedi = \\$1</span>\n",
        "    </div>\n",
        "</div>\n",
        "</div>\n",
        "<div style='content: \"\";clear: both;display:table;'>\n",
        "</div>"
      ],
      "id": "_EHHcuw3caPh"
    },
    {
      "cell_type": "code",
      "execution_count": 26,
      "metadata": {
        "id": "WHUmtIKKcaPh"
      },
      "outputs": [],
      "source": [
        "# create a new DataFrame to store the converted budgets\n",
        "X2 = pd.DataFrame()\n",
        "X2['TV (Rupee)'] = 200 * df['TV'] # convert to Sri Lankan Rupee\n",
        "X2['Radio (Won)'] = 1175 * df['Radio'] # convert to South Korean Won\n",
        "X2['Newspaper (Cedi)'] = 6 * df['Newspaper'] # Convert to Ghanaian Cedi"
      ],
      "id": "WHUmtIKKcaPh"
    },
    {
      "cell_type": "code",
      "execution_count": 27,
      "metadata": {
        "id": "c-H7-HD2caPh"
      },
      "outputs": [],
      "source": [
        "# we can use our original y as we have not converted the units for Sales\n",
        "lm2 = LinearRegression().fit(X2,y)"
      ],
      "id": "c-H7-HD2caPh"
    },
    {
      "cell_type": "markdown",
      "metadata": {
        "id": "5rsr4NVkcaPh"
      },
      "source": [
        "Let's look at the coefficient values from the fit on the converted budgets."
      ],
      "id": "5rsr4NVkcaPh"
    },
    {
      "cell_type": "code",
      "execution_count": 28,
      "metadata": {
        "colab": {
          "base_uri": "https://localhost:8080/"
        },
        "id": "YlmmCvFycaPi",
        "outputId": "d32b018d-6d39-4044-ddf8-3378416712f4"
      },
      "outputs": [
        {
          "output_type": "stream",
          "name": "stdout",
          "text": [
            "Model Coefficients\n",
            "      TV (Rupee):  0.00023\n",
            "     Radio (Won):  0.00016\n",
            "Newspaper (Cedi): -0.00017\n",
            "\n",
            "R^2: 0.8972\n"
          ]
        }
      ],
      "source": [
        "print(f'{\"Model Coefficients\":>16}')\n",
        "for col, coef in zip(X2.columns, lm2.coef_):\n",
        "    print(f'{col:>16}: {coef:>8.5f}')\n",
        "print(f'\\nR^2: {lm2.score(X2,y):.4}')"
      ],
      "id": "YlmmCvFycaPi"
    },
    {
      "cell_type": "markdown",
      "metadata": {
        "id": "C0_Pa3RHcaPi"
      },
      "source": [
        "This time, scaling our predictors but *not* the response clearly caused a change in our coefficients. Thinking about this question may help you us appreciate why.\n",
        "\n",
        "**Q3**: Assume that a \\\\$1 increase in the `Radio` budget is associated with an increase in `Sales` of $25. Then a **1 Won increase** in the `Radio` budget would see Sales increase by ___ dollars.\n",
        "\n",
        "\n",
        "*Hint:* 1,175 Won = $1"
      ],
      "id": "C0_Pa3RHcaPi"
    },
    {
      "cell_type": "code",
      "execution_count": null,
      "metadata": {
        "id": "tKCyLMTmcaPi"
      },
      "outputs": [],
      "source": [
        "### edTest(test_Q3) ###\n",
        "# your answer here\n",
        "Q3_ANSWER = 1/1175"
      ],
      "id": "tKCyLMTmcaPi"
    },
    {
      "cell_type": "markdown",
      "metadata": {
        "id": "VgqmIS8ScaPi"
      },
      "source": [
        "\n",
        "**Q4**: How did your answer in **Q3** compare to the original hypothetical increase of $25?\n",
        "\n",
        "A. It was higher\\\n",
        "B. It was lower\\\n",
        "C. No change (scale invariant)"
      ],
      "id": "VgqmIS8ScaPi"
    },
    {
      "cell_type": "code",
      "execution_count": null,
      "metadata": {
        "id": "FH7o-hZ0caPi"
      },
      "outputs": [],
      "source": [
        "### edTest(test_Q4) ###\n",
        "# your answer here\n",
        "Q4_ANSWER = 'B'"
      ],
      "id": "FH7o-hZ0caPi"
    },
    {
      "cell_type": "markdown",
      "metadata": {
        "id": "3ptIonBvcaPi"
      },
      "source": [
        "Now let's investigate how the coefficients changed relative to one another. Again, we'll use a helpful visualization."
      ],
      "id": "3ptIonBvcaPi"
    },
    {
      "cell_type": "code",
      "execution_count": null,
      "metadata": {
        "id": "u0Lj6pg_caPi",
        "outputId": "0403482e-cde5-4e17-8f4b-83ca8d95a05b"
      },
      "outputs": [
        {
          "data": {
            "image/png": "[encoded data removed]",
            "text/plain": [
              "<Figure size 576x216 with 1 Axes>"
            ]
          },
          "metadata": {
            "needs_background": "light"
          },
          "output_type": "display_data"
        }
      ],
      "source": [
        "plt.figure(figsize=(8,3))\n",
        "plt.barh(X2.columns, lm2.coef_)\n",
        "plt.axvline(0, c='k', ls='--', alpha=0.5)\n",
        "plt.ylabel('Predictor')\n",
        "plt.xlabel('Coefficient Values')\n",
        "plt.title('Coefficients of Linear Model Predicting Sales\\n from Newspaper, '\\\n",
        "            'Radio, and TV Advertising Budgets (Different Currencies)');\n"
      ],
      "id": "u0Lj6pg_caPi"
    },
    {
      "cell_type": "markdown",
      "metadata": {
        "id": "vzmZu3CFcaPi"
      },
      "source": [
        "**Q5**: Based on the plot above, which advertising in which type of media has the *least* effect on sales?\n",
        "\n",
        "A. Newspaper\\\n",
        "B. Radio\\\n",
        "C. TV"
      ],
      "id": "vzmZu3CFcaPi"
    },
    {
      "cell_type": "code",
      "execution_count": null,
      "metadata": {
        "id": "xzc4SC6QcaPj"
      },
      "outputs": [],
      "source": [
        "### edTest(test_Q5) ###\n",
        "# your answer here\n",
        "Q5_ANSWER = 'A'"
      ],
      "id": "xzc4SC6QcaPj"
    },
    {
      "cell_type": "markdown",
      "metadata": {
        "id": "jWO1xXx2caPj"
      },
      "source": [
        "**Q6**: True or False: This is the same interpretation we had in our original model where all budgets were in dollars."
      ],
      "id": "jWO1xXx2caPj"
    },
    {
      "cell_type": "code",
      "execution_count": null,
      "metadata": {
        "id": "n20sYa5OcaPj"
      },
      "outputs": [],
      "source": [
        "### edTest(test_Q6) ###\n",
        "# Use the boolean values True or False\n",
        "# your answer here\n",
        "Q6_ANSWER = True"
      ],
      "id": "n20sYa5OcaPj"
    },
    {
      "cell_type": "markdown",
      "metadata": {
        "id": "w2k_ynvucaPj"
      },
      "source": [
        "**Q7**: Imagine we have a 3rd regression models whose budgets have again been converted to 3 different currencies.\\\n",
        "True or False: we can compare the 2nd and 3rd models' MSE losses to determine which model's coefficients provide a more accurate interpretation of what type of media advertising has the largest effect on `Sales`."
      ],
      "id": "w2k_ynvucaPj"
    },
    {
      "cell_type": "code",
      "execution_count": null,
      "metadata": {
        "id": "VgJzkFOZcaPj"
      },
      "outputs": [],
      "source": [
        "### edTest(test_Q7) ###\n",
        "# Use the boolean values True or False\n",
        "# your answer here\n",
        "Q7_ANSWER = False"
      ],
      "id": "VgJzkFOZcaPj"
    },
    {
      "cell_type": "markdown",
      "metadata": {
        "id": "xKu0tqWOcaPj"
      },
      "source": [
        "Finally, it's important to recognize the limits of the x-axis differ between the two bar plots we've seen so far. We can better appreciate this difference by ploting both with a shared x-axis."
      ],
      "id": "xKu0tqWOcaPj"
    },
    {
      "cell_type": "code",
      "execution_count": 30,
      "metadata": {
        "colab": {
          "base_uri": "https://localhost:8080/",
          "height": 564
        },
        "id": "WA2oYJ38caPn",
        "outputId": "9ce89547-fc1b-48c2-b9ac-20b637e37e90"
      },
      "outputs": [
        {
          "output_type": "display_data",
          "data": {
            "text/plain": [
              "<Figure size 800x600 with 2 Axes>"
            ],
            "image/png": "[encoded data removed]"
          },
          "metadata": {}
        }
      ],
      "source": [
        "fig, axes = plt.subplots(2,1, figsize=(8,6), sharex=True)\n",
        "\n",
        "axes[0].barh(X.columns, lm.coef_)\n",
        "axes[0].set_title('Dollars');\n",
        "axes[1].barh(X2.columns, lm2.coef_)\n",
        "axes[1].set_title('Different Currencies')\n",
        "for ax in axes:\n",
        "    ax.axvline(0, c='k', ls='--', alpha=0.5)\n",
        "axes[0].set_ylabel('Predictor')\n",
        "axes[1].set_xlabel('Coefficient Values');\n"
      ],
      "id": "WA2oYJ38caPn"
    },
    {
      "cell_type": "markdown",
      "metadata": {
        "id": "kSusIxY2caPn"
      },
      "source": [
        "We've seen that having our predictors on different scales can bias our interpretation of the coefficients. In a future notebook we'll look at one way of insuring that all our predictors are on the same scale."
      ],
      "id": "kSusIxY2caPn"
    }
  ]
}